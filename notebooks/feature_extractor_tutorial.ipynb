{
 "cells": [
  {
   "cell_type": "code",
   "execution_count": 1,
   "metadata": {},
   "outputs": [
    {
     "name": "stderr",
     "output_type": "stream",
     "text": [
      "/Users/wheelerj/miniconda3/lib/python3.6/site-packages/tqdm/autonotebook/__init__.py:14: TqdmExperimentalWarning: Using `tqdm.autonotebook.tqdm` in notebook mode. Use `tqdm.tqdm` instead to force console mode (e.g. in jupyter console)\n",
      "  \" (e.g. in jupyter console)\", TqdmExperimentalWarning)\n"
     ]
    }
   ],
   "source": [
    "import re\n",
    "import numpy as np\n",
    "from willireply.data import enron\n",
    "from willireply.features.feature_extractor import FeatureExtractor\n",
    "from sklearn.linear_model import LinearRegression\n",
    "from sklearn.metrics import classification_report, fbeta_score"
   ]
  },
  {
   "cell_type": "markdown",
   "metadata": {},
   "source": [
    "This uses the FeatureExtractor class defined in willireply.features.feature_extractor. It's very simple.\n",
    "\n",
    "It takes in a arbitrary number of feature extractors, which take the data frame and return an MxN matrix (M rows, N columns).\n",
    "\n",
    "It then has built in methods to pull out the feature vector and labels."
   ]
  },
  {
   "cell_type": "markdown",
   "metadata": {},
   "source": [
    "# Setup"
   ]
  },
  {
   "cell_type": "code",
   "execution_count": 2,
   "metadata": {},
   "outputs": [],
   "source": [
    "def was_forwarded(df):\n",
    "    return df['subject'].str.contains('fwd?\\:?\\s', flags=re.IGNORECASE).values\n",
    "\n",
    "def subject_body_sizes(df):\n",
    "    return df[['m_to', 'subject']].applymap(lambda x: len(x)).values\n",
    "\n",
    "fe = FeatureExtractor(was_forwarded, subject_body_sizes)"
   ]
  },
  {
   "cell_type": "markdown",
   "metadata": {},
   "source": [
    "A simple example to get you going"
   ]
  },
  {
   "cell_type": "code",
   "execution_count": 3,
   "metadata": {},
   "outputs": [],
   "source": [
    "user = 'may-l'\n",
    "assert enron.is_labeled(user)\n",
    "df = enron.get_dataframe(user, received_only=True)\n",
    "X = fe.extract(df)\n",
    "y_true = fe.get_labels(df)"
   ]
  },
  {
   "cell_type": "markdown",
   "metadata": {},
   "source": [
    "Split the data into two equal parts"
   ]
  },
  {
   "cell_type": "markdown",
   "metadata": {},
   "source": [
    "# Experiment"
   ]
  },
  {
   "cell_type": "code",
   "execution_count": 4,
   "metadata": {},
   "outputs": [],
   "source": [
    "# Randomly select the train and test data\n",
    "N_training_samples = int(0.5 * len(df))\n",
    "training_indices = np.random.choice(df.index, N_training_samples, replace=False)\n",
    "testing_indices = set(df.index) - set(training_indices)\n",
    "\n",
    "X_train = fe.extract(df.loc[training_indices])\n",
    "y_train = fe.get_labels(df.loc[training_indices])\n",
    "X_test = fe.extract(df.loc[testing_indices])\n",
    "y_test = fe.get_labels(df.loc[testing_indices])"
   ]
  },
  {
   "cell_type": "markdown",
   "metadata": {},
   "source": [
    "Do the regression, and predict"
   ]
  },
  {
   "cell_type": "code",
   "execution_count": 5,
   "metadata": {},
   "outputs": [],
   "source": [
    "model = LinearRegression()\n",
    "model.fit(X_train, y_train)\n",
    "y_pred = model.predict(X_test) > 0"
   ]
  },
  {
   "cell_type": "markdown",
   "metadata": {},
   "source": [
    "Display the statistics"
   ]
  },
  {
   "cell_type": "code",
   "execution_count": 6,
   "metadata": {
    "scrolled": true
   },
   "outputs": [
    {
     "name": "stdout",
     "output_type": "stream",
     "text": [
      "             precision    recall  f1-score   support\n",
      "\n",
      "   no reply       1.00      0.03      0.06       724\n",
      "      reply       0.03      1.00      0.06        22\n",
      "\n",
      "avg / total       0.97      0.06      0.06       746\n",
      "\n",
      "f_2 = 0.135301353014\n"
     ]
    }
   ],
   "source": [
    "print(classification_report(y_test, y_pred, target_names=[\"no reply\", \"reply\"]))\n",
    "print('f_2 = %s' % fbeta_score(y_test, y_pred, 2, labels=['no reply', 'reply'], pos_label=1))"
   ]
  },
  {
   "cell_type": "markdown",
   "metadata": {},
   "source": [
    "# Alternative experiment\n",
    "\n",
    "Suppose we want to train on one person, and validate on another..."
   ]
  },
  {
   "cell_type": "code",
   "execution_count": 19,
   "metadata": {},
   "outputs": [],
   "source": [
    "from willireply.features import features\n",
    "\n",
    "my_common_words = ['ASAP', 'please', 'could you']\n",
    "common_words_feature = lambda df: features.common_words(df, my_common_words)\n",
    "\n",
    "fe = FeatureExtractor(\n",
    "         features.was_forwarded,\n",
    "         features.was_replied,\n",
    "         features.number_of_recipients,\n",
    "                      common_words_feature\n",
    "                     )"
   ]
  },
  {
   "cell_type": "code",
   "execution_count": 20,
   "metadata": {},
   "outputs": [],
   "source": [
    "df_train = enron.get_dataframe('may-l', received_only=True)\n",
    "df_validate = enron.get_dataframe('ring-a', received_only=True)"
   ]
  },
  {
   "cell_type": "code",
   "execution_count": 21,
   "metadata": {},
   "outputs": [
    {
     "name": "stdout",
     "output_type": "stream",
     "text": [
      "             precision    recall  f1-score   support\n",
      "\n",
      "   no reply       0.96      0.68      0.79       420\n",
      "      reply       0.04      0.35      0.08        17\n",
      "\n",
      "avg / total       0.93      0.66      0.77       437\n",
      "\n",
      "f_2 = 0.142857142857\n"
     ]
    }
   ],
   "source": [
    "model = LinearRegression()\n",
    "model.fit(fe.extract(df_train), fe.get_labels(df_train))\n",
    "y_pred = model.predict(fe.extract(df_validate)) > 0.05 # Not sure best place to set this predict...\n",
    "y_true = fe.get_labels(df_validate)\n",
    "\n",
    "print(classification_report(y_true, y_pred, target_names=[\"no reply\", \"reply\"]))\n",
    "print('f_2 = %s' % fbeta_score(y_true, y_pred, 2, labels=['no reply', 'reply'], pos_label=1))"
   ]
  },
  {
   "cell_type": "code",
   "execution_count": null,
   "metadata": {},
   "outputs": [],
   "source": []
  }
 ],
 "metadata": {
  "kernelspec": {
   "display_name": "Python 3",
   "language": "python",
   "name": "python3"
  },
  "language_info": {
   "codemirror_mode": {
    "name": "ipython",
    "version": 3
   },
   "file_extension": ".py",
   "mimetype": "text/x-python",
   "name": "python",
   "nbconvert_exporter": "python",
   "pygments_lexer": "ipython3",
   "version": "3.6.5"
  }
 },
 "nbformat": 4,
 "nbformat_minor": 2
}
