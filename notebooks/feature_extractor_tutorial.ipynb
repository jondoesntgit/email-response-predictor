{
 "cells": [
  {
   "cell_type": "code",
   "execution_count": 21,
   "metadata": {},
   "outputs": [],
   "source": [
    "import re\n",
    "import numpy as np\n",
    "from willireply.data import enron\n",
    "from willireply.features import features\n",
    "\n",
    "from willireply.features.feature_extractor import FeatureExtractor\n",
    "from sklearn.linear_model import LinearRegression, RidgeClassifier, LogisticRegression, Ridge\n",
    "from sklearn.tree import DecisionTreeClassifier\n",
    "import pandas as pd\n",
    "from sklearn.neural_network import MLPClassifier, MLPRegressor\n",
    "from sklearn.ensemble import RandomForestClassifier\n",
    "from sklearn.metrics import classification_report, fbeta_score"
   ]
  },
  {
   "cell_type": "markdown",
   "metadata": {},
   "source": [
    "This uses the FeatureExtractor class defined in willireply.features.feature_extractor. It's very simple.\n",
    "\n",
    "It takes in a arbitrary number of feature extractors, which take the data frame and return an MxN matrix (M rows, N columns).\n",
    "\n",
    "It then has built in methods to pull out the feature vector and labels."
   ]
  },
  {
   "cell_type": "markdown",
   "metadata": {},
   "source": [
    "# Setup"
   ]
  },
  {
   "cell_type": "code",
   "execution_count": 22,
   "metadata": {},
   "outputs": [],
   "source": [
    "def was_forwarded(df):\n",
    "    return df['subject'].str.contains('fwd?\\:?\\s', flags=re.IGNORECASE).values\n",
    "\n",
    "def subject_body_sizes(df):\n",
    "    return df[['m_to', 'subject']].applymap(lambda x: len(x)).values\n",
    "\n",
    "def was_replied(df):\n",
    "    \"\"\"Looks to see if something like Re or RE: is in the subject. Uses regular expressions\n",
    "    \"\"\"\n",
    "    return df['subject'].str.contains('re?\\:?\\s', flags=re.IGNORECASE).values\n",
    "def common_words_body(df, words):\n",
    "    \"\"\"Given a list of common words (length N), returns an MxN matrix (M is length of df)\n",
    "    Each cell is the number of times word[N] occurs in df[M].body (case insensitive\"\"\"\n",
    "    return df[['body']].apply(lambda x: pd.Series([x['body'].lower().count(word.lower()) for word in words]), axis=1).values\n",
    "\n",
    "def common_words_subject(df, words):\n",
    "    \"\"\"Given a list of common words (length N), returns an MxN matrix (M is length of df)\n",
    "    Each cell is the number of times word[N] occurs in df[M].body (case insensitive\"\"\"\n",
    "    return df[['subject']].apply(lambda x: pd.Series([x['subject'].lower().count(word.lower()) for word in words]), axis=1).values\n",
    "\n",
    "\n",
    "my_common_words = ['ASAP', 'please', 'could you', '?', 'when', 'where', 'who', 'why']\n",
    "\n",
    "words_body = lambda df: features.common_words_body(df, my_common_words)\n",
    "words_subject = lambda df: features.common_words_subject(df, my_common_words)\n",
    "\n",
    "\n",
    "def number_of_ccs(df):\n",
    "    \"\"\"Counts the number of CC'd\"\"\"\n",
    "    if df['m_cc'] is not None and len(df['m_cc'].apply(lambda x: len(x.split(','))).values) > 0:\n",
    "        return df['m_cc'].apply(lambda x: len(x.split(','))).values\n",
    "    else:\n",
    "        return 0\n",
    "def number_of_recipients(df):\n",
    "    \"\"\"Counts the number of recipients\"\"\"\n",
    "    return df['m_to'].apply(lambda x: len(x.split(','))).values\n",
    "\n",
    "fe = FeatureExtractor(was_forwarded, subject_body_sizes, was_replied, number_of_recipients, number_of_ccs, words_body, words_subject)"
   ]
  },
  {
   "cell_type": "markdown",
   "metadata": {},
   "source": [
    "A simple example to get you going"
   ]
  },
  {
   "cell_type": "code",
   "execution_count": 30,
   "metadata": {},
   "outputs": [],
   "source": [
    "users = ['sanders-r','shively-h','stepenovitch-j']#,'dorland-c','germany-c','hayslett-r','jones-t','lay-k','mann-k','meyers-a','phanis-s',\n",
    "           # 'ring-a','sanders-r','shively-h','stepenovitch-j','townsend-j','arnold-j','brawner-s','dasovich-j','ermis-f','gilbertsmith-d','heard-m',\n",
    "         #'kaminski-v','lenhart-m','martin-t','mims-thurston-p','pimenov-v','ring-r','scholtes-d','skilling-j','stokley-c','tycholiz-b','williams-w3']\n",
    "frames = []\n",
    "for user in users:\n",
    "    assert enron.is_labeled(user)\n",
    "    df = enron.get_dataframe(user, received_only=True)\n",
    "    frames.append(df)\n",
    "df = pd.concat(frames)\n",
    "X = fe.extract(df)\n",
    "y_true = fe.get_labels(df)"
   ]
  },
  {
   "cell_type": "markdown",
   "metadata": {},
   "source": [
    "Split the data into two equal parts"
   ]
  },
  {
   "cell_type": "markdown",
   "metadata": {},
   "source": [
    "# Experiment"
   ]
  },
  {
   "cell_type": "code",
   "execution_count": 35,
   "metadata": {},
   "outputs": [
    {
     "name": "stdout",
     "output_type": "stream",
     "text": [
      "Number of training samples: 6661 \n Number of testing samples: 2565\n"
     ]
    }
   ],
   "source": [
    "# Randomly select the train and test data\n",
    "N_training_samples = int(0.5 * len(df))\n",
    "training_indices = np.random.choice(df.index, N_training_samples, replace=False)\n",
    "testing_indices = set(df.index) - set(training_indices)\n",
    "\n",
    "X_train = fe.extract(df.loc[training_indices])\n",
    "y_train = fe.get_labels(df.loc[training_indices])\n",
    "\n",
    "X_test = fe.extract(df.loc[testing_indices])\n",
    "y_test = fe.get_labels(df.loc[testing_indices])\n",
    "print(\"Number of training samples: {} \\n Number of testing samples: {}\".format(len(X_train), len(X_test)))"
   ]
  },
  {
   "cell_type": "markdown",
   "metadata": {},
   "source": [
    "Do the regression, and predict"
   ]
  },
  {
   "cell_type": "code",
   "execution_count": 36,
   "metadata": {},
   "outputs": [
    {
     "name": "stdout",
     "output_type": "stream",
     "text": [
      "Training complete\n"
     ]
    }
   ],
   "source": [
    "model = LinearRegression()\n",
    "model.fit(X_train, y_train)\n",
    "df_validate = enron.get_dataframe('shively-h', received_only=True)\n",
    "y_pred = model.predict(fe.extract(df_validate)) > 0.05 # Not sure best place to set this predict...\n",
    "y_true = fe.get_labels(df_validate)\n",
    "#y_pred = model.predict(X_test) > 0\n",
    "\n",
    "print(\"Training complete\")"
   ]
  },
  {
   "cell_type": "code",
   "execution_count": 33,
   "metadata": {},
   "outputs": [
    {
     "name": "stdout",
     "output_type": "stream",
     "text": [
      "4\n"
     ]
    }
   ],
   "source": [
    "missed = df.iloc[np.where(y_test > y_pred)[0]]\n",
    "#ne = \n",
    "#ne\n",
    "#y_true.shape\n",
    "#df.equals((y_pred, y_true))\n",
    "print(len(missed))"
   ]
  },
  {
   "cell_type": "markdown",
   "metadata": {},
   "source": [
    "Display the statistics"
   ]
  },
  {
   "cell_type": "code",
   "execution_count": 34,
   "metadata": {
    "scrolled": true
   },
   "outputs": [
    {
     "name": "stdout",
     "output_type": "stream",
     "text": [
      "             precision    recall  f1-score   support\n\n   no reply       0.96      0.04      0.07      2358\n      reply       0.09      0.98      0.17       241\n\navg / total       0.88      0.13      0.08      2599\n\nf_2 = 0.341597002018\n"
     ]
    }
   ],
   "source": [
    "print(classification_report(y_test, y_pred, target_names=[\"no reply\", \"reply\"]))\n",
    "print('f_2 = %s' % fbeta_score(y_test, y_pred, 2, labels=['no reply', 'reply'], pos_label=1))"
   ]
  },
  {
   "cell_type": "markdown",
   "metadata": {},
   "source": [
    "# Alternative experiment\n",
    "\n",
    "Suppose we want to train on one person, and validate on another..."
   ]
  },
  {
   "cell_type": "code",
   "execution_count": 40,
   "metadata": {},
   "outputs": [],
   "source": [
    "from willireply.features import features\n",
    "my_common_words = ['ASAP', 'please', 'could you', '?', 'when', 'where', 'who', 'why']\n",
    "\n",
    "words_body = lambda df: features.common_words_body(df, my_common_words)\n",
    "words_subject = lambda df: features.common_words_subject(df, my_common_words)\n",
    "\n",
    "\n",
    "fe = FeatureExtractor(\n",
    "         features.was_forwarded,\n",
    "         features.was_replied,\n",
    "         features.number_of_recipients,\n",
    "                      words_body,\n",
    "        words_subject,\n",
    "         number_of_ccs\n",
    "                     )"
   ]
  },
  {
   "cell_type": "code",
   "execution_count": 41,
   "metadata": {},
   "outputs": [
    {
     "name": "stdout",
     "output_type": "stream",
     "text": [
      "Training\n5218\n"
     ]
    }
   ],
   "source": [
    "print(\"Training\")\n",
    "df_train = enron.get_dataframe('sanders-r', received_only=True)\n",
    "df_validate = enron.get_dataframe('shively-h', received_only=True)\n",
    "print(len(df_train))"
   ]
  },
  {
   "cell_type": "code",
   "execution_count": 42,
   "metadata": {},
   "outputs": [
    {
     "name": "stdout",
     "output_type": "stream",
     "text": [
      "             precision    recall  f1-score   support\n\n   no reply       0.97      0.06      0.12      1236\n      reply       0.06      0.97      0.10        70\n\navg / total       0.93      0.11      0.12      1306\n\nf_2 = 0.225763612218\n"
     ]
    }
   ],
   "source": [
    "model = LinearRegression()\n",
    "model.fit(fe.extract(df_train), fe.get_labels(df_train))\n",
    "y_pred = model.predict(fe.extract(df_validate)) > 0.05 # Not sure best place to set this predict...\n",
    "y_true = fe.get_labels(df_validate)\n",
    "\n",
    "print(classification_report(y_true, y_pred, target_names=[\"no reply\", \"reply\"]))\n",
    "print('f_2 = %s' % fbeta_score(y_true, y_pred, 2, labels=['no reply', 'reply'], pos_label=1))"
   ]
  },
  {
   "cell_type": "code",
   "execution_count": null,
   "metadata": {},
   "outputs": [],
   "source": []
  }
 ],
 "metadata": {
  "kernelspec": {
   "display_name": "Python 3",
   "language": "python",
   "name": "python3"
  },
  "language_info": {
   "codemirror_mode": {
    "name": "ipython",
    "version": 3
   },
   "file_extension": ".py",
   "mimetype": "text/x-python",
   "name": "python",
   "nbconvert_exporter": "python",
   "pygments_lexer": "ipython3",
   "version": "3.6.5"
  }
 },
 "nbformat": 4,
 "nbformat_minor": 2
}
