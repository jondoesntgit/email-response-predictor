{
 "cells": [
  {
   "cell_type": "code",
   "execution_count": 76,
   "metadata": {},
   "outputs": [
    {
     "data": {
      "text/html": [
       "<div>\n",
       "<style scoped>\n",
       "    .dataframe tbody tr th:only-of-type {\n",
       "        vertical-align: middle;\n",
       "    }\n",
       "\n",
       "    .dataframe tbody tr th {\n",
       "        vertical-align: top;\n",
       "    }\n",
       "\n",
       "    .dataframe thead th {\n",
       "        text-align: right;\n",
       "    }\n",
       "</style>\n",
       "<table border=\"1\" class=\"dataframe\">\n",
       "  <thead>\n",
       "    <tr style=\"text-align: right;\">\n",
       "      <th></th>\n",
       "      <th>filename</th>\n",
       "      <th>folder</th>\n",
       "      <th>sender</th>\n",
       "      <th>subject</th>\n",
       "      <th>body</th>\n",
       "      <th>bodytype</th>\n",
       "      <th>message_id</th>\n",
       "      <th>reply_id</th>\n",
       "      <th>is_reply</th>\n",
       "    </tr>\n",
       "  </thead>\n",
       "  <tbody>\n",
       "    <tr>\n",
       "      <th>0</th>\n",
       "      <td>1.eml</td>\n",
       "      <td>received</td>\n",
       "      <td>Google Community Team &lt;googlecommunityteam-nor...</td>\n",
       "      <td>Jonathan, welcome to your new Google Account</td>\n",
       "      <td>SGkgSm9uYXRoYW4sDQoNClRoYW5rIHlvdSBmb3IgY3JlYX...</td>\n",
       "      <td>plain</td>\n",
       "      <td>&lt;42fd9ede62c88faf2c435d8709e8b58b7902d996-2006...</td>\n",
       "      <td></td>\n",
       "      <td>0</td>\n",
       "    </tr>\n",
       "    <tr>\n",
       "      <th>1</th>\n",
       "      <td>0.eml</td>\n",
       "      <td>received</td>\n",
       "      <td>\"Jonathan Wheeler\" &lt;jamwheel@stanford.edu&gt;</td>\n",
       "      <td>Welcome!</td>\n",
       "      <td>Hi William,\\n\\nIt looks like you made your ema...</td>\n",
       "      <td>plain</td>\n",
       "      <td>&lt;0A8B421C-4782-4C01-9197-AE02E436A3DD@stanford...</td>\n",
       "      <td></td>\n",
       "      <td>0</td>\n",
       "    </tr>\n",
       "    <tr>\n",
       "      <th>2</th>\n",
       "      <td>1.eml</td>\n",
       "      <td>sent</td>\n",
       "      <td>William Reply &lt;cs221willireply@gmail.com&gt;</td>\n",
       "      <td>Re: Welcome!</td>\n",
       "      <td>Thanks! I got your email.\\n\\nWilliam\\n\\nOn Thu...</td>\n",
       "      <td>plain</td>\n",
       "      <td>&lt;CALzBGWR_CAi3Vyvgt-6OzWZR7oVTN3PYaKuGX7DELrSB...</td>\n",
       "      <td>&lt;0A8B421C-4782-4C01-9197-AE02E436A3DD@stanford...</td>\n",
       "      <td>1</td>\n",
       "    </tr>\n",
       "    <tr>\n",
       "      <th>3</th>\n",
       "      <td>0.eml</td>\n",
       "      <td>sent</td>\n",
       "      <td>William Reply &lt;cs221willireply@gmail.com&gt;</td>\n",
       "      <td>I'm sending my first message</td>\n",
       "      <td>Hi Jonathan,\\n\\nI'm going to send you my first...</td>\n",
       "      <td>plain</td>\n",
       "      <td>&lt;CALzBGWQqCHryscFbdH_Xt+LjbTavc10pGhYLRkh=gKvG...</td>\n",
       "      <td></td>\n",
       "      <td>0</td>\n",
       "    </tr>\n",
       "  </tbody>\n",
       "</table>\n",
       "</div>"
      ],
      "text/plain": [
       "  filename    folder                                             sender  \\\n",
       "0    1.eml  received  Google Community Team <googlecommunityteam-nor...   \n",
       "1    0.eml  received         \"Jonathan Wheeler\" <jamwheel@stanford.edu>   \n",
       "2    1.eml      sent          William Reply <cs221willireply@gmail.com>   \n",
       "3    0.eml      sent          William Reply <cs221willireply@gmail.com>   \n",
       "\n",
       "                                         subject  \\\n",
       "0  Jonathan, welcome to your new Google Account    \n",
       "1                                       Welcome!   \n",
       "2                                   Re: Welcome!   \n",
       "3                   I'm sending my first message   \n",
       "\n",
       "                                                body bodytype  \\\n",
       "0  SGkgSm9uYXRoYW4sDQoNClRoYW5rIHlvdSBmb3IgY3JlYX...    plain   \n",
       "1  Hi William,\\n\\nIt looks like you made your ema...    plain   \n",
       "2  Thanks! I got your email.\\n\\nWilliam\\n\\nOn Thu...    plain   \n",
       "3  Hi Jonathan,\\n\\nI'm going to send you my first...    plain   \n",
       "\n",
       "                                          message_id  \\\n",
       "0  <42fd9ede62c88faf2c435d8709e8b58b7902d996-2006...   \n",
       "1  <0A8B421C-4782-4C01-9197-AE02E436A3DD@stanford...   \n",
       "2  <CALzBGWR_CAi3Vyvgt-6OzWZR7oVTN3PYaKuGX7DELrSB...   \n",
       "3  <CALzBGWQqCHryscFbdH_Xt+LjbTavc10pGhYLRkh=gKvG...   \n",
       "\n",
       "                                            reply_id  is_reply  \n",
       "0                                                            0  \n",
       "1                                                            0  \n",
       "2  <0A8B421C-4782-4C01-9197-AE02E436A3DD@stanford...         1  \n",
       "3                                                            0  "
      ]
     },
     "execution_count": 76,
     "metadata": {},
     "output_type": "execute_result"
    }
   ],
   "source": [
    "import pandas as pd\n",
    "import sqlite3\n",
    "\n",
    "conn = sqlite3.connect(\"../data/raw/data.sqlite3\")\n",
    "df = pd.read_sql_query(\"SELECT * FROM emails\", conn)\n",
    "df"
   ]
  },
  {
   "cell_type": "code",
   "execution_count": 63,
   "metadata": {},
   "outputs": [
    {
     "name": "stdout",
     "output_type": "stream",
     "text": [
      "Thanks! I got your email.\n",
      "\n",
      "William\n",
      "\n",
      "On Thu, Oct 25, 2018 at 9:22 AM Jonathan Wheeler <jamwheel@stanford.edu>\n",
      "wrote:\n",
      "\n",
      "> Hi William,\n",
      ">\n",
      "> It looks like you made your email account! Congratulations. I=E2=80=99m j=\n",
      "ust\n",
      "> going to write you a quick email welcoming you to the world. Please\n",
      "> respond when you have a chance, so I know that you saw this email.\n",
      ">\n",
      "> Jonathan\n",
      ">\n",
      ">\n",
      "\n"
     ]
    }
   ],
   "source": [
    "print(df.iloc[2]['body'])"
   ]
  },
  {
   "cell_type": "code",
   "execution_count": 70,
   "metadata": {},
   "outputs": [],
   "source": [
    "with open('../data/raw/sent/1.eml') as f:\n",
    "    m = email.message_from_file(f)"
   ]
  },
  {
   "cell_type": "code",
   "execution_count": 71,
   "metadata": {},
   "outputs": [
    {
     "name": "stdout",
     "output_type": "stream",
     "text": [
      "Thanks! I got your email.\n",
      "\n",
      "William\n",
      "\n",
      "On Thu, Oct 25, 2018 at 9:22 AM Jonathan Wheeler <jamwheel@stanford.edu>\n",
      "wrote:\n",
      "\n",
      "> Hi William,\n",
      ">\n",
      "> It looks like you made your email account! Congratulations. I=E2=80=99m j=\n",
      "ust\n",
      "> going to write you a quick email welcoming you to the world. Please\n",
      "> respond when you have a chance, so I know that you saw this email.\n",
      ">\n",
      "> Jonathan\n",
      ">\n",
      ">\n",
      "\n"
     ]
    }
   ],
   "source": [
    "for part in m.walk():\n",
    "    # each part is a either non-multipart, or another multipart message\n",
    "    # that contains further parts... Message is organized like a tree\n",
    "    if part.get_content_type() == 'text/plain':\n",
    "        print(part.get_payload()) # prints the raw text"
   ]
  }
 ],
 "metadata": {
  "kernelspec": {
   "display_name": "Python 3",
   "language": "python",
   "name": "python3"
  },
  "language_info": {
   "codemirror_mode": {
    "name": "ipython",
    "version": 3
   },
   "file_extension": ".py",
   "mimetype": "text/x-python",
   "name": "python",
   "nbconvert_exporter": "python",
   "pygments_lexer": "ipython3",
   "version": "3.6.4"
  }
 },
 "nbformat": 4,
 "nbformat_minor": 2
}
