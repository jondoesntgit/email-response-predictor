{
 "cells": [
  {
   "cell_type": "markdown",
   "metadata": {},
   "source": [
    "I've put all of our code into a repository. To install it, go to the root directory and run `pip install -e .`. "
   ]
  },
  {
   "cell_type": "markdown",
   "metadata": {},
   "source": [
    "Grabs the code for processing the enron data set"
   ]
  },
  {
   "cell_type": "code",
   "execution_count": 2,
   "metadata": {},
   "outputs": [
    {
     "name": "stderr",
     "output_type": "stream",
     "text": [
      "/usr/local/lib/python3.6/site-packages/tqdm/autonotebook/__init__.py:14: TqdmExperimentalWarning: Using `tqdm.autonotebook.tqdm` in notebook mode. Use `tqdm.tqdm` instead to force console mode (e.g. in jupyter console)\n  \" (e.g. in jupyter console)\", TqdmExperimentalWarning)\n"
     ]
    }
   ],
   "source": [
    "from willireply.data import enron\n",
    "import pandas as pd"
   ]
  },
  {
   "cell_type": "markdown",
   "metadata": {},
   "source": [
    "Index the enron corpus into the file specified as follows:"
   ]
  },
  {
   "cell_type": "code",
   "execution_count": 2,
   "metadata": {},
   "outputs": [
    {
     "name": "stdout",
     "output_type": "stream",
     "text": [
      "/Users/macpro/Documents/enron/maildir\n/Users/macpro/Documents/enron/indices\n"
     ]
    }
   ],
   "source": [
    "# These are set by the .env file in your project root. Use .env.example as a guideline\n",
    "print(enron.ENRON_FOLDER)\n",
    "print(enron.ENRON_INDEX_FOLDER)"
   ]
  },
  {
   "cell_type": "markdown",
   "metadata": {},
   "source": [
    "All magic occurs in these two lines"
   ]
  },
  {
   "cell_type": "code",
   "execution_count": 3,
   "metadata": {},
   "outputs": [
    {
     "data": {
      "text/plain": [
       "HBox(children=(IntProgress(value=0, description='users', max=4, style=ProgressStyle(description_width='initial…"
      ]
     },
     "execution_count": 0,
     "metadata": {},
     "output_type": "execute_result"
    },
    {
     "data": {
      "text/plain": [
       "HBox(children=(IntProgress(value=0, description='folders', max=5, style=ProgressStyle(description_width='initi…"
      ]
     },
     "execution_count": 0,
     "metadata": {},
     "output_type": "execute_result"
    },
    {
     "data": {
      "text/plain": [
       "HBox(children=(IntProgress(value=0, description='folders', max=5, style=ProgressStyle(description_width='initi…"
      ]
     },
     "execution_count": 0,
     "metadata": {},
     "output_type": "execute_result"
    },
    {
     "data": {
      "text/plain": [
       "HBox(children=(IntProgress(value=0, description='folders', max=15, style=ProgressStyle(description_width='init…"
      ]
     },
     "execution_count": 0,
     "metadata": {},
     "output_type": "execute_result"
    },
    {
     "data": {
      "text/plain": [
       "HBox(children=(IntProgress(value=0, description='folders', max=20, style=ProgressStyle(description_width='init…"
      ]
     },
     "execution_count": 0,
     "metadata": {},
     "output_type": "execute_result"
    },
    {
     "name": "stdout",
     "output_type": "stream",
     "text": [
      "\r"
     ]
    },
    {
     "data": {
      "text/plain": [
       "HBox(children=(IntProgress(value=0, description='users', max=10, style=ProgressStyle(description_width='initia…"
      ]
     },
     "execution_count": 0,
     "metadata": {},
     "output_type": "execute_result"
    },
    {
     "data": {
      "text/plain": [
       "HBox(children=(IntProgress(value=0, description='emails', max=437, style=ProgressStyle(description_width='init…"
      ]
     },
     "execution_count": 0,
     "metadata": {},
     "output_type": "execute_result"
    },
    {
     "data": {
      "text/plain": [
       "HBox(children=(IntProgress(value=0, description='emails', max=939, style=ProgressStyle(description_width='init…"
      ]
     },
     "execution_count": 0,
     "metadata": {},
     "output_type": "execute_result"
    },
    {
     "data": {
      "text/plain": [
       "HBox(children=(IntProgress(value=0, description='emails', max=1306, style=ProgressStyle(description_width='ini…"
      ]
     },
     "execution_count": 0,
     "metadata": {},
     "output_type": "execute_result"
    },
    {
     "data": {
      "text/plain": [
       "HBox(children=(IntProgress(value=0, description='emails', max=1516, style=ProgressStyle(description_width='ini…"
      ]
     },
     "execution_count": 0,
     "metadata": {},
     "output_type": "execute_result"
    },
    {
     "data": {
      "text/plain": [
       "HBox(children=(IntProgress(value=0, description='emails', max=1687, style=ProgressStyle(description_width='ini…"
      ]
     },
     "execution_count": 0,
     "metadata": {},
     "output_type": "execute_result"
    },
    {
     "data": {
      "text/plain": [
       "HBox(children=(IntProgress(value=0, description='emails', max=317, style=ProgressStyle(description_width='init…"
      ]
     },
     "execution_count": 0,
     "metadata": {},
     "output_type": "execute_result"
    },
    {
     "data": {
      "text/plain": [
       "HBox(children=(IntProgress(value=0, description='emails', max=1492, style=ProgressStyle(description_width='ini…"
      ]
     },
     "execution_count": 0,
     "metadata": {},
     "output_type": "execute_result"
    },
    {
     "data": {
      "text/plain": [
       "HBox(children=(IntProgress(value=0, description='emails', max=5218, style=ProgressStyle(description_width='ini…"
      ]
     },
     "execution_count": 0,
     "metadata": {},
     "output_type": "execute_result"
    },
    {
     "data": {
      "text/plain": [
       "HBox(children=(IntProgress(value=0, description='emails', max=342, style=ProgressStyle(description_width='init…"
      ]
     },
     "execution_count": 0,
     "metadata": {},
     "output_type": "execute_result"
    },
    {
     "data": {
      "text/plain": [
       "HBox(children=(IntProgress(value=0, description='emails', max=1655, style=ProgressStyle(description_width='ini…"
      ]
     },
     "execution_count": 0,
     "metadata": {},
     "output_type": "execute_result"
    },
    {
     "name": "stdout",
     "output_type": "stream",
     "text": [
      "\r"
     ]
    }
   ],
   "source": [
    "#enron.delete_indices()\n",
    "enron.index('donoho-l','crandell-s','baughman-d','hayslett-r')\n",
    "enron.label()"
   ]
  },
  {
   "cell_type": "markdown",
   "metadata": {},
   "source": [
    "An example of how to use the processed data"
   ]
  },
  {
   "cell_type": "code",
   "execution_count": 2,
   "metadata": {},
   "outputs": [
    {
     "data": {
      "text/html": [
       "<div>\n",
       "<style scoped>\n",
       "    .dataframe tbody tr th:only-of-type {\n",
       "        vertical-align: middle;\n",
       "    }\n",
       "\n",
       "    .dataframe tbody tr th {\n",
       "        vertical-align: top;\n",
       "    }\n",
       "\n",
       "    .dataframe thead th {\n",
       "        text-align: right;\n",
       "    }\n",
       "</style>\n",
       "<table border=\"1\" class=\"dataframe\">\n",
       "  <thead>\n",
       "    <tr style=\"text-align: right;\">\n",
       "      <th></th>\n",
       "      <th>reply_id</th>\n",
       "    </tr>\n",
       "    <tr>\n",
       "      <th>id</th>\n",
       "      <th></th>\n",
       "    </tr>\n",
       "  </thead>\n",
       "  <tbody>\n",
       "    <tr>\n",
       "      <th>20</th>\n",
       "      <td>1398.0</td>\n",
       "    </tr>\n",
       "    <tr>\n",
       "      <th>61</th>\n",
       "      <td>1388.0</td>\n",
       "    </tr>\n",
       "    <tr>\n",
       "      <th>155</th>\n",
       "      <td>1358.0</td>\n",
       "    </tr>\n",
       "    <tr>\n",
       "      <th>156</th>\n",
       "      <td>1342.0</td>\n",
       "    </tr>\n",
       "    <tr>\n",
       "      <th>233</th>\n",
       "      <td>1344.0</td>\n",
       "    </tr>\n",
       "    <tr>\n",
       "      <th>261</th>\n",
       "      <td>1340.0</td>\n",
       "    </tr>\n",
       "    <tr>\n",
       "      <th>280</th>\n",
       "      <td>1346.0</td>\n",
       "    </tr>\n",
       "    <tr>\n",
       "      <th>297</th>\n",
       "      <td>1348.0</td>\n",
       "    </tr>\n",
       "    <tr>\n",
       "      <th>322</th>\n",
       "      <td>1360.0</td>\n",
       "    </tr>\n",
       "    <tr>\n",
       "      <th>352</th>\n",
       "      <td>1371.0</td>\n",
       "    </tr>\n",
       "  </tbody>\n",
       "</table>\n",
       "</div>"
      ],
      "text/plain": [
       "     reply_id\n",
       "id           \n",
       "20     1398.0\n",
       "61     1388.0\n",
       "155    1358.0\n",
       "156    1342.0\n",
       "233    1344.0\n",
       "261    1340.0\n",
       "280    1346.0\n",
       "297    1348.0\n",
       "322    1360.0\n",
       "352    1371.0"
      ]
     },
     "execution_count": 2,
     "metadata": {},
     "output_type": "execute_result"
    }
   ],
   "source": [
    "df = enron.get_dataframe('may-l')\n",
    "results_df = df.query('did_reply == 1').loc[:, ['reply_id']].iloc[:10]\n",
    "results_df"
   ]
  },
  {
   "cell_type": "code",
   "execution_count": 3,
   "metadata": {},
   "outputs": [
    {
     "name": "stdout",
     "output_type": "stream",
     "text": [
      "PG&E Energy Trading                 \t PG&E Energy Trading                \n",
      "Houston Ballet's Miller Theater Per \t Houston Ballet's Miller Theater Per\n",
      "ELM Finance Course Offerings        \t FW: ELM Finance Course Offerings   \n",
      "Straddle Problem                    \t RE: Straddle Problem               \n",
      "RE: Lawrence May                    \t RE: Lawrence May                   \n",
      "FW: lawyers                         \t FW: lawyers                        \n",
      "A Two States Model For Power        \t A Two States Model For Power       \n",
      "RE: re: site blocked                \t RE: re: site blocked               \n",
      "RE: Straddle Problem                \t RE: Straddle Problem               \n",
      "Option quotes                       \t FW: Option quotes                  \n"
     ]
    }
   ],
   "source": [
    "for idx, row in results_df.iterrows():\n",
    "    s1 = df.loc[idx].subject\n",
    "    s2 = df.loc[row['reply_id']].subject\n",
    "    print('{: <35} \\t {: <35}'.format(s1[:35], s2[:35]))"
   ]
  },
  {
   "cell_type": "code",
   "execution_count": null,
   "metadata": {},
   "outputs": [],
   "source": []
  }
 ],
 "metadata": {
  "kernelspec": {
   "display_name": "Python 3",
   "language": "python",
   "name": "python3"
  },
  "language_info": {
   "codemirror_mode": {
    "name": "ipython",
    "version": 3
   },
   "file_extension": ".py",
   "mimetype": "text/x-python",
   "name": "python",
   "nbconvert_exporter": "python",
   "pygments_lexer": "ipython3",
   "version": "3.6.5"
  }
 },
 "nbformat": 4,
 "nbformat_minor": 2
}
