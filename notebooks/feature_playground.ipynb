{
 "cells": [
  {
   "cell_type": "code",
   "execution_count": 1,
   "metadata": {},
   "outputs": [
    {
     "name": "stderr",
     "output_type": "stream",
     "text": [
      "/Users/wheelerj/miniconda3/lib/python3.6/site-packages/tqdm/autonotebook/__init__.py:14: TqdmExperimentalWarning: Using `tqdm.autonotebook.tqdm` in notebook mode. Use `tqdm.tqdm` instead to force console mode (e.g. in jupyter console)\n",
      "  \" (e.g. in jupyter console)\", TqdmExperimentalWarning)\n"
     ]
    }
   ],
   "source": [
    "import re\n",
    "import numpy as np\n",
    "from willireply.data import enron"
   ]
  },
  {
   "cell_type": "code",
   "execution_count": 3,
   "metadata": {},
   "outputs": [],
   "source": [
    "def was_forwarded(df):\n",
    "    return df['subject'].str.contains('fwd?\\:?\\s', flags=re.IGNORECASE).values\n",
    "\n",
    "df = enron.get_dataframe('skilling-j', received_only=True)"
   ]
  },
  {
   "cell_type": "code",
   "execution_count": 58,
   "metadata": {},
   "outputs": [
    {
     "data": {
      "text/plain": [
       "pandas.core.frame.DataFrame"
      ]
     },
     "execution_count": 58,
     "metadata": {},
     "output_type": "execute_result"
    }
   ],
   "source": [
    "type(df[['body']])"
   ]
  },
  {
   "cell_type": "code",
   "execution_count": 63,
   "metadata": {},
   "outputs": [
    {
     "data": {
      "text/plain": [
       "'0.22.0'"
      ]
     },
     "execution_count": 63,
     "metadata": {},
     "output_type": "execute_result"
    }
   ],
   "source": [
    "import pandas as pd\n",
    "pd.__version__"
   ]
  },
  {
   "cell_type": "code",
   "execution_count": 79,
   "metadata": {},
   "outputs": [
    {
     "data": {
      "text/plain": [
       "array([[1, 0, 9],\n",
       "       [0, 0, 2],\n",
       "       [1, 0, 0],\n",
       "       ..., \n",
       "       [1, 0, 0],\n",
       "       [0, 0, 0],\n",
       "       [2, 0, 0]])"
      ]
     },
     "execution_count": 79,
     "metadata": {},
     "output_type": "execute_result"
    }
   ],
   "source": [
    "words = ['Jeff']\n",
    "\n",
    "def common_words(df, words):\n",
    "    return df[['body']].apply(lambda x: pd.Series([x['body'].lower().count(word.lower()) for word in words]), axis=1).values\n",
    "\n",
    "common_words(df, ['Please', 'ASAP', 'Jeff'])"
   ]
  },
  {
   "cell_type": "code",
   "execution_count": 31,
   "metadata": {},
   "outputs": [
    {
     "data": {
      "text/plain": [
       "id\n",
       "1       Congratulation Jeff!\\n\\nI am the Assistant to ...\n",
       "2       Hi  Jeff,\\n?\\nI am following up on  a confiden...\n",
       "3       Gentlemen:\\nI good friend at Sun suggested me ...\n",
       "4       Jeff,\\nCongratulations. It's great to hear the...\n",
       "5       It is my great pleasure to announce that the B...\n",
       "6       ---------------------- Forwarded by Rosalee Fl...\n",
       "7       Jeff, \\n\\nMy sister is a Vice President for JP...\n",
       "8       A police officer pulls a guy over for speeding...\n",
       "9       Following please find the Daily EnronOnline Ex...\n",
       "10      Congratulations!!!  Looking forward to your gr...\n",
       "11      Attached is the registration form for the Tour...\n",
       "12      John Sherriff has asked me to update you on th...\n",
       "13      Dear Mr. Skilling,\\n\\n My name is Chris Weekle...\n",
       "14      Jeff,\\n\\nGreat to see Enron and you doing so w...\n",
       "15      Elvis,\\nThe link didn't work for me, so I went...\n",
       "16      CONGRATULATIONS!!  I'm just proud to say \"I kn...\n",
       "17      Thanks for the time yesterday.  I wanted also ...\n",
       "18      I suspected that we would have no problems, bu...\n",
       "19      Following is a list of names that Jeff and Gen...\n",
       "20      Let's try this again....\\n\\nThanks,\\n\\nMelissa...\n",
       "21      Dear Jeff and Sherri\\nYour Master Airway Bill ...\n",
       "22      Rebecca: \\n\\nThese meetings that were set up w...\n",
       "23      While visiting India on vacation, I met with, ...\n",
       "24      Hello Phil\\nThe eGroups shows that you are lis...\n",
       "25      As amended as of 5/16/01.\\n\\n\\n\\n\\n\\nStewart L...\n",
       "26      Some questions in advance of the 42nd floor me...\n",
       "27      NEW CALL-IN NUMBERS:\\nNOTE:  This week there w...\n",
       "28      Attached for your review and approval are the ...\n",
       "29      Dear Friend: \\n\\nThe 3rd annual Forbes-Milken ...\n",
       "30      Come visit http://members3.clubphoto.com/marga...\n",
       "                              ...                        \n",
       "4096    Outlook Migration Team\\n05/14/2001 01:02 PM\\nT...\n",
       "4097    Mark, I have a letter here that Jeff would lik...\n",
       "4098    Why don't you reserve a conference room.  That...\n",
       "4099    January 1, 2000\\n\\nEarlier, with some trepidat...\n",
       "4100    Tom,\\n\\nOnce again good to hear from you.  Sti...\n",
       "4101    June 23, 1999\\n\\nHome,\\nA sort of honor, not a...\n",
       "4102    The use of cell phones and pagers has increase...\n",
       "4103    THIS WEEK'S BETA IS????TIME TO EAT LUNCHDARREL...\n",
       "4104    I'm in one piece; oblivious (if not for the ne...\n",
       "4105    David, just heard that you joined the 2001 Enr...\n",
       "4106    Rick,\\n\\nThis is disturbing.  I can not unders...\n",
       "4107    yes!\\n\\n\\n\\n\\nChristie Connell\\n07/05/2000 02:...\n",
       "4108    I want to document my appreciation for your ef...\n",
       "4109    The pictures of the week shows that whenever B...\n",
       "4110    Mark,\\n\\nI am pleased to report that everyone ...\n",
       "4111    Please see the attached Management Report for ...\n",
       "4112    Jan Mann, Executive Recruiter, Mayor's Office....\n",
       "4113    Time -   2pm - 6pm\\nWhere -  1400 Smith St\\n  ...\n",
       "4114    Dear Jeff and Sherri\\nYour Master Airway Bill ...\n",
       "4115    Thanks for your consideration.\\n\\n\\nWC\\n\\n- - ...\n",
       "4116    Kevin,\\n\\nJeff's response to this inquiry is:\\...\n",
       "4117    Greg Piper would be your contact for this and ...\n",
       "4118    Hell Jeff!? I've attached a speaking  invitati...\n",
       "4119    Jeff,\\n\\nToday  I  had a good discussion with ...\n",
       "4120    Jeff, I didn't know about your new job when I ...\n",
       "4121    Charla, Jeff said this is acceptable to him.  ...\n",
       "4122    Jeff, \\n\\nMy sister is a Vice President for JP...\n",
       "4123    Hi, Kristin.  I guess we got our wires crossed...\n",
       "4124    If you want to add smu-betas egroup to your ot...\n",
       "4125    Dear Mr. Skilling:\\n\\nI write on behalf of Jer...\n",
       "Name: body, Length: 3520, dtype: object"
      ]
     },
     "execution_count": 31,
     "metadata": {},
     "output_type": "execute_result"
    }
   ],
   "source": [
    "df.body"
   ]
  },
  {
   "cell_type": "code",
   "execution_count": null,
   "metadata": {},
   "outputs": [],
   "source": []
  }
 ],
 "metadata": {
  "kernelspec": {
   "display_name": "Python 3",
   "language": "python",
   "name": "python3"
  },
  "language_info": {
   "codemirror_mode": {
    "name": "ipython",
    "version": 3
   },
   "file_extension": ".py",
   "mimetype": "text/x-python",
   "name": "python",
   "nbconvert_exporter": "python",
   "pygments_lexer": "ipython3",
   "version": "3.6.5"
  }
 },
 "nbformat": 4,
 "nbformat_minor": 2
}
